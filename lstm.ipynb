{
 "cells": [
  {
   "cell_type": "code",
   "execution_count": 1,
   "id": "57b49fde-aaff-4949-b031-eed4a52a758b",
   "metadata": {},
   "outputs": [],
   "source": [
    "import matplotlib.pyplot as plt\n",
    "import numpy as np\n",
    "import tensorflow as tf\n",
    "from tensorflow_model_optimization.python.core.sparsity.keras import pruning_wrapper\n",
    "import zipfile\n",
    "import os\n",
    "from prog_models.data_models import LSTMStateTransitionModel\n",
    "from prog_models.models import BatteryElectroChemEOD\n",
    "from prog_models.utils import *\n",
    "\n",
    "%load_ext tensorboard\n",
    "%load_ext autoreload\n",
    "%autoreload 2\n",
    "\n",
    "results = {}\n",
    "keras = tf.keras\n",
    "K = tf.keras.backend"
   ]
  },
  {
   "cell_type": "code",
   "execution_count": 2,
   "id": "1a519be8-215c-45e2-a2a7-b786a9a712a7",
   "metadata": {},
   "outputs": [],
   "source": [
    "def get_model_sparsity(model):\n",
    "    def _get_sparsity(weights):\n",
    "        return 1.0 - np.count_nonzero(weights) / float(weights.size)\n",
    "\n",
    "    sparsity = 0\n",
    "    count = 0\n",
    "    for layer in model.layers:\n",
    "        if isinstance(layer, pruning_wrapper.PruneLowMagnitude):\n",
    "            prunable_weights = layer.layer.get_prunable_weights()\n",
    "            if prunable_weights:\n",
    "                for weight in prunable_weights:\n",
    "                    s = _get_sparsity(K.get_value(weight))\n",
    "                    sparsity += s\n",
    "                    count += 1\n",
    "    if count == 0 or sparsity == 0:\n",
    "        return 0\n",
    "    else:\n",
    "        return sparsity / count\n",
    "     \n",
    "    \n",
    "def get_size_mb(fname):\n",
    "    return os.path.getsize(fname) / 1024 / 1024\n",
    "    \n",
    "    \n",
    "def add_results(results, name, rmse, h5_size, tflite_size, zipped_size, n_params, sparsity):\n",
    "    results[name] = {}\n",
    "    results[name]['rmse'] = rmse\n",
    "    results[name]['h5_size'] = h5_size\n",
    "    results[name]['tflite_size'] = tflite_size\n",
    "    results[name]['zipped_size'] = zipped_size\n",
    "    results[name]['n_params'] = n_params\n",
    "    results[name]['sparsity'] = sparsity\n",
    "    return results\n",
    "\n",
    "\n",
    "def gzip_model(file):\n",
    "    \n",
    "    with zipfile.ZipFile(f'{file}.zip', 'w', compression=zipfile.ZIP_DEFLATED) as f:\n",
    "        f.write(file)\n",
    "\n",
    "    return os.path.getsize(f'{file}.zip') / 1024 / 1024\n",
    "\n",
    "def future_loading(t, x=None):\n",
    "    return batt.InputContainer({'i': 3})\n",
    "\n",
    "def future_loading2(t, x = None):\n",
    "    global t_counter, x_counter\n",
    "    z = batt.output(x_counter)\n",
    "    z = m_batt.InputContainer({'i': 3, 't_t-1': z['t'], 'v_t-1': z['v'], 'dt': t - t_counter})\n",
    "    x_counter = batt.next_state(x_counter, future_loading(t), t - t_counter)\n",
    "    t_counter = t\n",
    "    return z\n",
    "\n",
    "def compare_models():\n",
    "    global t_counter, x_counter\n",
    "    # Step 3: Simulate with model\n",
    "    t_counter = 0\n",
    "    x_counter = batt.initialize()\n",
    "\n",
    "    # Use a new dt, not used in training. \n",
    "    # Using a dt not used in training will demonstrate the model's \n",
    "    # ability to handle different timesteps not part of training set\n",
    "    res_true = batt.simulate_to_threshold(future_loading, dt=1, save_freq=1)\n",
    "    res_pred = m_batt.simulate_to(res_true.times[-1], future_loading2, dt=1, save_freq=1)\n",
    "\n",
    "    # Step 5: Compare pred\n",
    "    true = {}\n",
    "    true['name'] = 'true'\n",
    "    true['temp'] = [val['t'] for val in res_true.outputs]\n",
    "    true['voltage'] = [val['v'] for val in res_true.outputs]\n",
    "\n",
    "    pred = {}\n",
    "    pred['name'] = 'pred'\n",
    "    pred['temp'] = [val['t'] for val in res_pred.outputs]\n",
    "    pred['voltage'] = [val['v'] for val in res_pred.outputs]\n",
    "\n",
    "    traces = [true, pred]\n",
    "    params = ['temp', 'voltage']\n",
    "\n",
    "    fig = plt.figure(figsize=(8,4))\n",
    "    i = 1\n",
    "    for param in params:\n",
    "        plt.subplot(2,1,i)\n",
    "        i += 1\n",
    "        for trace in traces:\n",
    "            plt.plot(trace[param], label=f'{trace[\"name\"]} - {param}') \n",
    "        plt.legend()\n",
    "    plt.show()"
   ]
  },
  {
   "cell_type": "code",
   "execution_count": 3,
   "id": "d9363610-9c19-422e-aa1d-36cdb9cb3055",
   "metadata": {},
   "outputs": [
    {
     "name": "stdout",
     "output_type": "stream",
     "text": [
      "BatteryElectroChemEOD Prognostics Model (Events: ['EOD'])\n"
     ]
    }
   ],
   "source": [
    "batt = BatteryElectroChemEOD(process_noise = 0, measurement_noise=0)\n",
    "print(batt)\n",
    "\n",
    "future_loading_eqns = [lambda t, x=None, load=load: batt.InputContainer({'i': 1+1.5*load}) for load in range(6)]\n",
    "# Generate data with different loading and step sizes\n",
    "# Adding the step size as an element of the output\n",
    "training_data = []\n",
    "for i in range(9):\n",
    "    dt = i/3+0.25\n",
    "    for loading_eqn in future_loading_eqns:\n",
    "        d = batt.simulate_to_threshold(loading_eqn, save_freq=dt, dt=dt) \n",
    "        u = np.array([np.hstack((u_i.matrix[:][0].T, [dt])) for u_i in d.inputs], dtype=float)\n",
    "        z = d.outputs\n",
    "        training_data.append((u, z))\n",
    "        "
   ]
  },
  {
   "cell_type": "code",
   "execution_count": 4,
   "id": "21cd7ffd-745d-44ef-853a-b569f7afc01f",
   "metadata": {},
   "outputs": [
    {
     "name": "stdout",
     "output_type": "stream",
     "text": [
      "Building model...\n",
      "Epoch 1/5\n",
      "3060/3060 [==============================] - 21s 6ms/step - loss: 0.0842 - root_mean_squared_error: 0.2902 - val_loss: 0.0108 - val_root_mean_squared_error: 0.1040\n",
      "Epoch 2/5\n",
      "3060/3060 [==============================] - 17s 6ms/step - loss: 0.0624 - root_mean_squared_error: 0.2498 - val_loss: 0.0105 - val_root_mean_squared_error: 0.1026\n",
      "Epoch 3/5\n",
      "3060/3060 [==============================] - 17s 6ms/step - loss: 0.0627 - root_mean_squared_error: 0.2505 - val_loss: 0.0049 - val_root_mean_squared_error: 0.0700\n",
      "Epoch 4/5\n",
      "3060/3060 [==============================] - 17s 6ms/step - loss: 0.0620 - root_mean_squared_error: 0.2490 - val_loss: 0.0101 - val_root_mean_squared_error: 0.1003\n",
      "Epoch 5/5\n",
      "3060/3060 [==============================] - 17s 5ms/step - loss: 0.0621 - root_mean_squared_error: 0.2493 - val_loss: 0.0107 - val_root_mean_squared_error: 0.1036\n"
     ]
    }
   ],
   "source": [
    "# Step 2: Generate Model\n",
    "print('Building model...')\n",
    "name = 'original'\n",
    "m_batt = LSTMStateTransitionModel.from_data(\n",
    "    training_data,  \n",
    "    window=12, \n",
    "    epochs=5, \n",
    "    units=16,  # Additional units given the increased complexity of the system\n",
    "    inputs = ['i', 'dt'],\n",
    "    outputs = ['t', 'v'],\n",
    "    process_noise=0,\n",
    "    measurement_noise=0,\n",
    "    optimizer='adam',\n",
    "    checkpoint=f'{name}.keras')"
   ]
  },
  {
   "cell_type": "code",
   "execution_count": 5,
   "id": "09a7544a-fe4f-4bf0-9768-e02c2a15dd3b",
   "metadata": {},
   "outputs": [
    {
     "data": {
      "image/png": "[encoded data removed]",
      "text/plain": [
       "<Figure size 800x400 with 2 Axes>"
      ]
     },
     "metadata": {
      "needs_background": "light"
     },
     "output_type": "display_data"
    }
   ],
   "source": [
    "compare_models()"
   ]
  },
  {
   "cell_type": "code",
   "execution_count": null,
   "id": "61244286-685c-4dd1-a27d-c435c587082e",
   "metadata": {},
   "outputs": [],
   "source": []
  },
  {
   "cell_type": "code",
   "execution_count": 20,
   "id": "1018fc27-e0ae-41e9-a403-8e0f40c87f82",
   "metadata": {},
   "outputs": [
    {
     "name": "stdout",
     "output_type": "stream",
     "text": [
      "reducing model size\n",
      "   3/3060 [..............................] - ETA: 44:13 - loss: 0.0725 - root_mean_squared_error: 0.2692  WARNING:tensorflow:Callback method `on_train_batch_end` is slow compared to the batch time (batch time: 0.0096s vs `on_train_batch_end` time: 0.2872s). Check your callbacks.\n",
      "3060/3060 [==============================] - 54s 15ms/step - loss: 0.0765 - root_mean_squared_error: 0.2766 - val_loss: 0.0160 - val_root_mean_squared_error: 0.1267\n",
      "WARNING:tensorflow:Compiled the loaded model, but the compiled metrics have yet to be built. `model.compile_metrics` will be empty until you train or evaluate the model.\n",
      "WARNING:tensorflow:Compiled the loaded model, but the compiled metrics have yet to be built. `model.compile_metrics` will be empty until you train or evaluate the model.\n"
     ]
    },
    {
     "name": "stderr",
     "output_type": "stream",
     "text": [
      "WARNING:absl:Found untraced functions such as lstm_cell_1_layer_call_fn, lstm_cell_1_layer_call_and_return_conditional_losses, lstm_cell_1_layer_call_fn, lstm_cell_1_layer_call_and_return_conditional_losses, lstm_cell_1_layer_call_and_return_conditional_losses while saving (showing 5 of 5). These functions will not be directly callable after loading.\n"
     ]
    },
    {
     "name": "stdout",
     "output_type": "stream",
     "text": [
      "INFO:tensorflow:Assets written to: C:\\Users\\timda\\AppData\\Local\\Temp\\tmpjsc1yqpo\\assets\n"
     ]
    },
    {
     "name": "stderr",
     "output_type": "stream",
     "text": [
      "INFO:tensorflow:Assets written to: C:\\Users\\timda\\AppData\\Local\\Temp\\tmpjsc1yqpo\\assets\n"
     ]
    },
    {
     "name": "stdout",
     "output_type": "stream",
     "text": [
      "WARNING:tensorflow:Compiled the loaded model, but the compiled metrics have yet to be built. `model.compile_metrics` will be empty until you train or evaluate the model.\n"
     ]
    },
    {
     "name": "stderr",
     "output_type": "stream",
     "text": [
      "WARNING:tensorflow:Compiled the loaded model, but the compiled metrics have yet to be built. `model.compile_metrics` will be empty until you train or evaluate the model.\n",
      "WARNING:absl:Found untraced functions such as lstm_cell_1_layer_call_fn, lstm_cell_1_layer_call_and_return_conditional_losses, lstm_cell_1_layer_call_fn, lstm_cell_1_layer_call_and_return_conditional_losses, lstm_cell_1_layer_call_and_return_conditional_losses while saving (showing 5 of 5). These functions will not be directly callable after loading.\n"
     ]
    },
    {
     "name": "stdout",
     "output_type": "stream",
     "text": [
      "INFO:tensorflow:Assets written to: C:\\Users\\timda\\AppData\\Local\\Temp\\tmpd76y2v_s\\assets\n"
     ]
    },
    {
     "name": "stderr",
     "output_type": "stream",
     "text": [
      "INFO:tensorflow:Assets written to: C:\\Users\\timda\\AppData\\Local\\Temp\\tmpd76y2v_s\\assets\n"
     ]
    }
   ],
   "source": [
    "m_batt.reduce(training_data, epochs=1)"
   ]
  },
  {
   "cell_type": "code",
   "execution_count": 25,
   "id": "3471e5f5-73bd-4074-891f-584205fe5e7b",
   "metadata": {},
   "outputs": [
    {
     "ename": "AttributeError",
     "evalue": "'LSTMStateTransitionModel' object has no attribute 'inputs'",
     "output_type": "error",
     "traceback": [
      "\u001b[1;31m---------------------------------------------------------------------------\u001b[0m",
      "\u001b[1;31mAttributeError\u001b[0m                            Traceback (most recent call last)",
      "\u001b[1;32m<ipython-input-25-e74df797ba11>\u001b[0m in \u001b[0;36m<module>\u001b[1;34m\u001b[0m\n\u001b[1;32m----> 1\u001b[1;33m \u001b[0mr_batt\u001b[0m \u001b[1;33m=\u001b[0m \u001b[0mm_batt\u001b[0m\u001b[1;33m.\u001b[0m\u001b[0mcreduce\u001b[0m\u001b[1;33m(\u001b[0m\u001b[0mtraining_data\u001b[0m\u001b[1;33m,\u001b[0m \u001b[0mepochs\u001b[0m\u001b[1;33m=\u001b[0m\u001b[1;36m1\u001b[0m\u001b[1;33m)\u001b[0m\u001b[1;33m\u001b[0m\u001b[1;33m\u001b[0m\u001b[0m\n\u001b[0m",
      "\u001b[1;32mc:\\users\\timda\\prog_models\\src\\prog_models\\data_models\\lstm_model.py\u001b[0m in \u001b[0;36mcreduce\u001b[1;34m(self, data, log_dir, epochs, **kwargs)\u001b[0m\n\u001b[0;32m    190\u001b[0m         \u001b[1;31m# Preprocess data\u001b[0m\u001b[1;33m\u001b[0m\u001b[1;33m\u001b[0m\u001b[1;33m\u001b[0m\u001b[0m\n\u001b[0;32m    191\u001b[0m \u001b[1;33m\u001b[0m\u001b[0m\n\u001b[1;32m--> 192\u001b[1;33m         \u001b[0mnew_model\u001b[0m \u001b[1;33m=\u001b[0m \u001b[0mdeepcopy\u001b[0m\u001b[1;33m(\u001b[0m\u001b[0mself\u001b[0m\u001b[1;33m)\u001b[0m\u001b[1;33m\u001b[0m\u001b[1;33m\u001b[0m\u001b[0m\n\u001b[0m\u001b[0;32m    193\u001b[0m \u001b[1;33m\u001b[0m\u001b[0m\n\u001b[0;32m    194\u001b[0m         \u001b[0mparams\u001b[0m \u001b[1;33m=\u001b[0m \u001b[0mnew_model\u001b[0m\u001b[1;33m.\u001b[0m\u001b[0mparams\u001b[0m\u001b[1;33m\u001b[0m\u001b[1;33m\u001b[0m\u001b[0m\n",
      "\u001b[1;32m~\\anaconda3\\envs\\tfgpu\\lib\\copy.py\u001b[0m in \u001b[0;36mdeepcopy\u001b[1;34m(x, memo, _nil)\u001b[0m\n\u001b[0;32m    178\u001b[0m                     \u001b[0my\u001b[0m \u001b[1;33m=\u001b[0m \u001b[0mx\u001b[0m\u001b[1;33m\u001b[0m\u001b[1;33m\u001b[0m\u001b[0m\n\u001b[0;32m    179\u001b[0m                 \u001b[1;32melse\u001b[0m\u001b[1;33m:\u001b[0m\u001b[1;33m\u001b[0m\u001b[1;33m\u001b[0m\u001b[0m\n\u001b[1;32m--> 180\u001b[1;33m                     \u001b[0my\u001b[0m \u001b[1;33m=\u001b[0m \u001b[0m_reconstruct\u001b[0m\u001b[1;33m(\u001b[0m\u001b[0mx\u001b[0m\u001b[1;33m,\u001b[0m \u001b[0mmemo\u001b[0m\u001b[1;33m,\u001b[0m \u001b[1;33m*\u001b[0m\u001b[0mrv\u001b[0m\u001b[1;33m)\u001b[0m\u001b[1;33m\u001b[0m\u001b[1;33m\u001b[0m\u001b[0m\n\u001b[0m\u001b[0;32m    181\u001b[0m \u001b[1;33m\u001b[0m\u001b[0m\n\u001b[0;32m    182\u001b[0m     \u001b[1;31m# If is its own copy, don't memoize.\u001b[0m\u001b[1;33m\u001b[0m\u001b[1;33m\u001b[0m\u001b[1;33m\u001b[0m\u001b[0m\n",
      "\u001b[1;32m~\\anaconda3\\envs\\tfgpu\\lib\\copy.py\u001b[0m in \u001b[0;36m_reconstruct\u001b[1;34m(x, memo, func, args, state, listiter, dictiter, deepcopy)\u001b[0m\n\u001b[0;32m    280\u001b[0m             \u001b[0mstate\u001b[0m \u001b[1;33m=\u001b[0m \u001b[0mdeepcopy\u001b[0m\u001b[1;33m(\u001b[0m\u001b[0mstate\u001b[0m\u001b[1;33m,\u001b[0m \u001b[0mmemo\u001b[0m\u001b[1;33m)\u001b[0m\u001b[1;33m\u001b[0m\u001b[1;33m\u001b[0m\u001b[0m\n\u001b[0;32m    281\u001b[0m         \u001b[1;32mif\u001b[0m \u001b[0mhasattr\u001b[0m\u001b[1;33m(\u001b[0m\u001b[0my\u001b[0m\u001b[1;33m,\u001b[0m \u001b[1;34m'__setstate__'\u001b[0m\u001b[1;33m)\u001b[0m\u001b[1;33m:\u001b[0m\u001b[1;33m\u001b[0m\u001b[1;33m\u001b[0m\u001b[0m\n\u001b[1;32m--> 282\u001b[1;33m             \u001b[0my\u001b[0m\u001b[1;33m.\u001b[0m\u001b[0m__setstate__\u001b[0m\u001b[1;33m(\u001b[0m\u001b[0mstate\u001b[0m\u001b[1;33m)\u001b[0m\u001b[1;33m\u001b[0m\u001b[1;33m\u001b[0m\u001b[0m\n\u001b[0m\u001b[0;32m    283\u001b[0m         \u001b[1;32melse\u001b[0m\u001b[1;33m:\u001b[0m\u001b[1;33m\u001b[0m\u001b[1;33m\u001b[0m\u001b[0m\n\u001b[0;32m    284\u001b[0m             \u001b[1;32mif\u001b[0m \u001b[0misinstance\u001b[0m\u001b[1;33m(\u001b[0m\u001b[0mstate\u001b[0m\u001b[1;33m,\u001b[0m \u001b[0mtuple\u001b[0m\u001b[1;33m)\u001b[0m \u001b[1;32mand\u001b[0m \u001b[0mlen\u001b[0m\u001b[1;33m(\u001b[0m\u001b[0mstate\u001b[0m\u001b[1;33m)\u001b[0m \u001b[1;33m==\u001b[0m \u001b[1;36m2\u001b[0m\u001b[1;33m:\u001b[0m\u001b[1;33m\u001b[0m\u001b[1;33m\u001b[0m\u001b[0m\n",
      "\u001b[1;32mc:\\users\\timda\\prog_models\\src\\prog_models\\prognostics_model.py\u001b[0m in \u001b[0;36m__setstate__\u001b[1;34m(self, state)\u001b[0m\n\u001b[0;32m    148\u001b[0m \u001b[1;33m\u001b[0m\u001b[0m\n\u001b[0;32m    149\u001b[0m     \u001b[1;32mdef\u001b[0m \u001b[0m__setstate__\u001b[0m\u001b[1;33m(\u001b[0m\u001b[0mself\u001b[0m\u001b[1;33m,\u001b[0m \u001b[0mstate\u001b[0m \u001b[1;33m:\u001b[0m \u001b[0mdict\u001b[0m\u001b[1;33m)\u001b[0m \u001b[1;33m->\u001b[0m \u001b[1;32mNone\u001b[0m\u001b[1;33m:\u001b[0m\u001b[1;33m\u001b[0m\u001b[1;33m\u001b[0m\u001b[0m\n\u001b[1;32m--> 150\u001b[1;33m         \u001b[0mself\u001b[0m\u001b[1;33m.\u001b[0m\u001b[0mn_inputs\u001b[0m \u001b[1;33m=\u001b[0m \u001b[0mlen\u001b[0m\u001b[1;33m(\u001b[0m\u001b[0mself\u001b[0m\u001b[1;33m.\u001b[0m\u001b[0minputs\u001b[0m\u001b[1;33m)\u001b[0m\u001b[1;33m\u001b[0m\u001b[1;33m\u001b[0m\u001b[0m\n\u001b[0m\u001b[0;32m    151\u001b[0m         \u001b[0mself\u001b[0m\u001b[1;33m.\u001b[0m\u001b[0mn_states\u001b[0m \u001b[1;33m=\u001b[0m \u001b[0mlen\u001b[0m\u001b[1;33m(\u001b[0m\u001b[0mself\u001b[0m\u001b[1;33m.\u001b[0m\u001b[0mstates\u001b[0m\u001b[1;33m)\u001b[0m\u001b[1;33m\u001b[0m\u001b[1;33m\u001b[0m\u001b[0m\n\u001b[0;32m    152\u001b[0m         \u001b[0mself\u001b[0m\u001b[1;33m.\u001b[0m\u001b[0mn_events\u001b[0m \u001b[1;33m=\u001b[0m \u001b[0mlen\u001b[0m\u001b[1;33m(\u001b[0m\u001b[0mself\u001b[0m\u001b[1;33m.\u001b[0m\u001b[0mevents\u001b[0m\u001b[1;33m)\u001b[0m\u001b[1;33m\u001b[0m\u001b[1;33m\u001b[0m\u001b[0m\n",
      "\u001b[1;31mAttributeError\u001b[0m: 'LSTMStateTransitionModel' object has no attribute 'inputs'"
     ]
    }
   ],
   "source": [
    "r_batt = m_batt.creduce(training_data, epochs=1)"
   ]
  },
  {
   "cell_type": "code",
   "execution_count": 26,
   "id": "d1f6e442-487b-4cc6-ad0e-06c695d4d56d",
   "metadata": {},
   "outputs": [
    {
     "data": {
      "text/plain": [
       "dict_keys(['outputs', 'inputs', 'states', 'n_inputs', 'n_states', 'n_events', 'n_outputs', 'n_performance', 'StateContainer', 'InputContainer', 'OutputContainer', 'apply_process_noise', 'apply_measurement_noise', 'parameters', 'model', 'model_bytes', 'pruned', 'pruned_bytes', 'quantized_bytes', 'params'])"
      ]
     },
     "execution_count": 26,
     "metadata": {},
     "output_type": "execute_result"
    }
   ],
   "source": [
    "m_batt.__dict__.keys()"
   ]
  },
  {
   "cell_type": "code",
   "execution_count": 15,
   "id": "423d4550-5bcb-44dd-aa39-6f24b383df1f",
   "metadata": {},
   "outputs": [],
   "source": []
  },
  {
   "cell_type": "code",
   "execution_count": 15,
   "id": "8456f748-8bea-4292-bfdd-dc24b69ca80c",
   "metadata": {},
   "outputs": [
    {
     "data": {
      "text/plain": [
       "0.0045413970947265625"
      ]
     },
     "execution_count": 15,
     "metadata": {},
     "output_type": "execute_result"
    }
   ],
   "source": [
    "name = 'quantized'\n",
    "gzip_model(f'{name}.tflite')"
   ]
  },
  {
   "cell_type": "code",
   "execution_count": null,
   "id": "674295a0-30ae-472b-bf84-206aff31e101",
   "metadata": {},
   "outputs": [],
   "source": []
  },
  {
   "cell_type": "markdown",
   "id": "ac8170ab-5107-43c5-ba76-29fd9b2eb921",
   "metadata": {},
   "source": [
    "# comparison"
   ]
  },
  {
   "cell_type": "code",
   "execution_count": 13,
   "id": "1be936b8-9b0a-4f75-a455-e7df5840cbab",
   "metadata": {},
   "outputs": [],
   "source": [
    "import time"
   ]
  },
  {
   "cell_type": "code",
   "execution_count": 22,
   "id": "2ee98651-3ce6-4211-9e4b-8314585e5400",
   "metadata": {},
   "outputs": [
    {
     "ename": "NameError",
     "evalue": "name 'x_test' is not defined",
     "output_type": "error",
     "traceback": [
      "\u001b[1;31m---------------------------------------------------------------------------\u001b[0m",
      "\u001b[1;31mNameError\u001b[0m                                 Traceback (most recent call last)",
      "\u001b[1;32m<ipython-input-22-aaf31b10319d>\u001b[0m in \u001b[0;36m<module>\u001b[1;34m\u001b[0m\n\u001b[0;32m      8\u001b[0m     \u001b[0minput_shape\u001b[0m \u001b[1;33m=\u001b[0m \u001b[0minput_details\u001b[0m\u001b[1;33m[\u001b[0m\u001b[1;36m0\u001b[0m\u001b[1;33m]\u001b[0m\u001b[1;33m[\u001b[0m\u001b[1;34m'shape'\u001b[0m\u001b[1;33m]\u001b[0m\u001b[1;33m\u001b[0m\u001b[1;33m\u001b[0m\u001b[0m\n\u001b[0;32m      9\u001b[0m \u001b[1;33m\u001b[0m\u001b[0m\n\u001b[1;32m---> 10\u001b[1;33m     \u001b[0minput_data\u001b[0m \u001b[1;33m=\u001b[0m \u001b[0mx_test\u001b[0m\u001b[1;33m[\u001b[0m\u001b[0mi\u001b[0m\u001b[1;33m]\u001b[0m\u001b[1;33m.\u001b[0m\u001b[0mreshape\u001b[0m\u001b[1;33m(\u001b[0m\u001b[1;36m1\u001b[0m\u001b[1;33m,\u001b[0m\u001b[1;33m-\u001b[0m\u001b[1;36m1\u001b[0m\u001b[1;33m)\u001b[0m\u001b[1;33m.\u001b[0m\u001b[0mastype\u001b[0m\u001b[1;33m(\u001b[0m\u001b[1;34m'float32'\u001b[0m\u001b[1;33m)\u001b[0m\u001b[1;33m\u001b[0m\u001b[1;33m\u001b[0m\u001b[0m\n\u001b[0m\u001b[0;32m     11\u001b[0m     \u001b[0minterpreter\u001b[0m\u001b[1;33m.\u001b[0m\u001b[0mset_tensor\u001b[0m\u001b[1;33m(\u001b[0m\u001b[0minput_details\u001b[0m\u001b[1;33m[\u001b[0m\u001b[1;36m0\u001b[0m\u001b[1;33m]\u001b[0m\u001b[1;33m[\u001b[0m\u001b[1;34m'index'\u001b[0m\u001b[1;33m]\u001b[0m\u001b[1;33m,\u001b[0m \u001b[0minput_data\u001b[0m\u001b[1;33m)\u001b[0m\u001b[1;33m\u001b[0m\u001b[1;33m\u001b[0m\u001b[0m\n\u001b[0;32m     12\u001b[0m     \u001b[0minterpreter\u001b[0m\u001b[1;33m.\u001b[0m\u001b[0minvoke\u001b[0m\u001b[1;33m(\u001b[0m\u001b[1;33m)\u001b[0m\u001b[1;33m\u001b[0m\u001b[1;33m\u001b[0m\u001b[0m\n",
      "\u001b[1;31mNameError\u001b[0m: name 'x_test' is not defined"
     ]
    }
   ],
   "source": [
    "names = ['pruned', 'quantized']\n",
    "for name in names:\n",
    "    #interpreter = tf.lite.Interpreter(model_path=f'{name}.tflite')\n",
    "    interpreter = tf.lite.Interpreter(model_content=m_batt.pruned_bytes)\n",
    "    interpreter.allocate_tensors()\n",
    "    input_details = interpreter.get_input_details()\n",
    "    output_details = interpreter.get_output_details()\n",
    "    input_shape = input_details[0]['shape']\n",
    "\n",
    "    input_data = x_test[i].reshape(1,-1).astype('float32')\n",
    "    interpreter.set_tensor(input_details[0]['index'], input_data)\n",
    "    interpreter.invoke()\n",
    "    interpreter.get_tensor(output_details[0]['index'])\n"
   ]
  },
  {
   "cell_type": "code",
   "execution_count": 15,
   "id": "50060b47-ee1e-4f62-9ac2-7ac25d094675",
   "metadata": {},
   "outputs": [
    {
     "data": {
      "text/plain": [
       "array([ 1, 12,  4])"
      ]
     },
     "execution_count": 15,
     "metadata": {},
     "output_type": "execute_result"
    }
   ],
   "source": [
    "input_shape"
   ]
  },
  {
   "cell_type": "code",
   "execution_count": null,
   "id": "b8f44602-409e-43f0-b4f2-a212e4e2d9bb",
   "metadata": {},
   "outputs": [],
   "source": []
  },
  {
   "cell_type": "code",
   "execution_count": 14,
   "id": "9b27b731-3b5d-4054-a7df-1562bd8ac9d3",
   "metadata": {},
   "outputs": [
    {
     "ename": "NameError",
     "evalue": "name 'x_test' is not defined",
     "output_type": "error",
     "traceback": [
      "\u001b[1;31m---------------------------------------------------------------------------\u001b[0m",
      "\u001b[1;31mNameError\u001b[0m                                 Traceback (most recent call last)",
      "\u001b[1;32m<ipython-input-14-43eaf0df0e0f>\u001b[0m in \u001b[0;36m<module>\u001b[1;34m\u001b[0m\n\u001b[0;32m      9\u001b[0m     \u001b[0mres\u001b[0m \u001b[1;33m=\u001b[0m \u001b[1;33m[\u001b[0m\u001b[1;33m]\u001b[0m\u001b[1;33m\u001b[0m\u001b[1;33m\u001b[0m\u001b[0m\n\u001b[0;32m     10\u001b[0m     \u001b[0mt1\u001b[0m \u001b[1;33m=\u001b[0m \u001b[0mtime\u001b[0m\u001b[1;33m.\u001b[0m\u001b[0mtime\u001b[0m\u001b[1;33m(\u001b[0m\u001b[1;33m)\u001b[0m\u001b[1;33m\u001b[0m\u001b[1;33m\u001b[0m\u001b[0m\n\u001b[1;32m---> 11\u001b[1;33m     \u001b[1;32mfor\u001b[0m \u001b[0mi\u001b[0m \u001b[1;32min\u001b[0m \u001b[0mrange\u001b[0m\u001b[1;33m(\u001b[0m\u001b[0mlen\u001b[0m\u001b[1;33m(\u001b[0m\u001b[0mx_test\u001b[0m\u001b[1;33m)\u001b[0m\u001b[1;33m)\u001b[0m\u001b[1;33m:\u001b[0m\u001b[1;33m\u001b[0m\u001b[1;33m\u001b[0m\u001b[0m\n\u001b[0m\u001b[0;32m     12\u001b[0m         \u001b[0minput_data\u001b[0m \u001b[1;33m=\u001b[0m \u001b[0mx_test\u001b[0m\u001b[1;33m[\u001b[0m\u001b[0mi\u001b[0m\u001b[1;33m]\u001b[0m\u001b[1;33m.\u001b[0m\u001b[0mreshape\u001b[0m\u001b[1;33m(\u001b[0m\u001b[1;36m1\u001b[0m\u001b[1;33m,\u001b[0m\u001b[1;33m-\u001b[0m\u001b[1;36m1\u001b[0m\u001b[1;33m)\u001b[0m\u001b[1;33m.\u001b[0m\u001b[0mastype\u001b[0m\u001b[1;33m(\u001b[0m\u001b[1;34m'float32'\u001b[0m\u001b[1;33m)\u001b[0m\u001b[1;33m\u001b[0m\u001b[1;33m\u001b[0m\u001b[0m\n\u001b[0;32m     13\u001b[0m         \u001b[0minterpreter\u001b[0m\u001b[1;33m.\u001b[0m\u001b[0mset_tensor\u001b[0m\u001b[1;33m(\u001b[0m\u001b[0minput_details\u001b[0m\u001b[1;33m[\u001b[0m\u001b[1;36m0\u001b[0m\u001b[1;33m]\u001b[0m\u001b[1;33m[\u001b[0m\u001b[1;34m'index'\u001b[0m\u001b[1;33m]\u001b[0m\u001b[1;33m,\u001b[0m \u001b[0minput_data\u001b[0m\u001b[1;33m)\u001b[0m\u001b[1;33m\u001b[0m\u001b[1;33m\u001b[0m\u001b[0m\n",
      "\u001b[1;31mNameError\u001b[0m: name 'x_test' is not defined"
     ]
    }
   ],
   "source": [
    "names = ['pruned', 'quantized']\n",
    "for name in names:\n",
    "    interpreter = tf.lite.Interpreter(model_path=f'{name}.tflite')\n",
    "    interpreter.allocate_tensors()\n",
    "    input_details = interpreter.get_input_details()\n",
    "    output_details = interpreter.get_output_details()\n",
    "    input_shape = input_details[0]['shape']\n",
    "\n",
    "    res = []\n",
    "    t1 = time.time()\n",
    "    for i in range(len(x_test)):\n",
    "        input_data = x_test[i].reshape(1,-1).astype('float32')\n",
    "        interpreter.set_tensor(input_details[0]['index'], input_data)\n",
    "        interpreter.invoke()\n",
    "        res.append(interpreter.get_tensor(output_details[0]['index']))\n",
    "    t2 = time.time()\n",
    "    elapsed = t2 - t1\n",
    "    speed = elapsed / len(x_test)\n",
    "    res = np.array(res).flatten()\n",
    "    res = np.round(res).astype('int')\n",
    "    acc = 1 - sum(abs(y_test - res))/len(y_test)\n",
    "    size = get_size_mb(f'{name}.tflite')\n",
    "    print(f'name: {name}, size: {size}, acc: {acc}, time: {elapsed}, speed: {speed}')"
   ]
  },
  {
   "cell_type": "markdown",
   "id": "1ba7c94c-8b0b-4b74-8759-fc976e4fa900",
   "metadata": {},
   "source": [
    "# imports"
   ]
  },
  {
   "cell_type": "code",
   "execution_count": null,
   "id": "fda2f3a9-87bc-40ce-a120-068cf917611e",
   "metadata": {},
   "outputs": [],
   "source": [
    "import numpy as np\n",
    "import tensorflow as tf\n",
    "import os\n",
    "# base_dir = os.path.dirname(os.getcwd())\n",
    "# print(base_dir)\n",
    "# import sys\n",
    "# sys.path.insert(1, base_dir)\n",
    "# from package.api import DB as api\n",
    "# import package.utils as utils\n",
    "# import package.tuning as tuning\n",
    "# utils.check_gpu()\n",
    "import time\n",
    "import zipfile\n",
    "import tempfile\n",
    "import tensorflow_model_optimization as tfmot\n",
    "from tensorflow_model_optimization.python.core.sparsity.keras import prune\n",
    "from tensorflow_model_optimization.python.core.sparsity.keras import pruning_callbacks\n",
    "from tensorflow_model_optimization.python.core.sparsity.keras import pruning_schedule\n",
    "from tensorflow_model_optimization.python.core.sparsity.keras import pruning_wrapper\n",
    "from keras.utils.layer_utils import count_params\n",
    "\n",
    "import absl.logging\n",
    "absl.logging.set_verbosity(absl.logging.ERROR)\n",
    "\n",
    "import warnings\n",
    "warnings.filterwarnings('ignore')\n",
    "os.environ['TF_CPP_MIN_LOG_LEVEL'] = '3' \n",
    "tf.compat.v1.logging.set_verbosity(tf.compat.v1.logging.ERROR)\n",
    "\n",
    "%load_ext tensorboard\n",
    "\n",
    "keras = tf.keras\n",
    "K = tf.keras.backend\n",
    "results = {}\n",
    "\n",
    "def get_model_sparsity(model):\n",
    "    def _get_sparsity(weights):\n",
    "        return 1.0 - np.count_nonzero(weights) / float(weights.size)\n",
    "\n",
    "    sparsity = 0\n",
    "    count = 0\n",
    "    for layer in model.layers:\n",
    "        if isinstance(layer, pruning_wrapper.PruneLowMagnitude):\n",
    "            prunable_weights = layer.layer.get_prunable_weights()\n",
    "            if prunable_weights:\n",
    "                for weight in prunable_weights:\n",
    "                    s = _get_sparsity(K.get_value(weight))\n",
    "                    sparsity += s\n",
    "                    count += 1\n",
    "    if count == 0 or sparsity == 0:\n",
    "        return 0\n",
    "    else:\n",
    "        return sparsity / count\n",
    "    \n",
    "    \n",
    "    \n",
    "def get_size_mb(fname):\n",
    "    res = !ls -l | grep $fname\n",
    "    return round(int(res[0].split(os.getlogin())[-1].lstrip().split(' ')[0]) / 1024 / 1024, 2)\n",
    "    \n",
    "    \n",
    "    \n",
    "def add_results(results, name, score, acc, h5_size, tflite_size, zipped_size, n_params, sparsity):\n",
    "    results[name] = {}\n",
    "    results[name]['score'] = score\n",
    "    results[name]['acc'] = acc\n",
    "    results[name]['h5_size'] = h5_size\n",
    "    results[name]['tflite_size'] = tflite_size\n",
    "    results[name]['zipped_size'] = zipped_size\n",
    "    results[name]['n_params'] = n_params\n",
    "    results[name]['sparsity'] = sparsity\n",
    "    return results\n",
    "\n",
    "\n",
    "\n",
    "def gzip_model(file):\n",
    "    \n",
    "    with zipfile.ZipFile(f'{file}.zip', 'w', compression=zipfile.ZIP_DEFLATED) as f:\n",
    "        f.write(file)\n",
    "\n",
    "    return os.path.getsize(f'{file}.zip') / 1024 / 1024"
   ]
  }
 ],
 "metadata": {
  "kernelspec": {
   "display_name": "Python 3",
   "language": "python",
   "name": "python3"
  },
  "language_info": {
   "codemirror_mode": {
    "name": "ipython",
    "version": 3
   },
   "file_extension": ".py",
   "mimetype": "text/x-python",
   "name": "python",
   "nbconvert_exporter": "python",
   "pygments_lexer": "ipython3",
   "version": "3.6.13"
  }
 },
 "nbformat": 4,
 "nbformat_minor": 5
}
