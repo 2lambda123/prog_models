{
 "cells": [
  {
   "attachments": {},
   "cell_type": "markdown",
   "metadata": {},
   "source": [
    "# Welcome to the composite_model tutorial"
   ]
  },
  {
   "attachments": {},
   "cell_type": "markdown",
   "metadata": {},
   "source": [
    "The goal of this notebook is to demonstrate what composite_model is, how to use it, and the potential use cases for the model!\n",
    "\n",
    "Formally, a CompositeModel is a PrognosticsModel that is composed of multiple PrognosticsModels. This is a tool for modeling system-of-systems. I.e., interconnected systems, where the behavior and state of one system effects the state of another system. The composite prognostics models are connected using defined connections between the output or state of one model, and the input of another model. The resulting CompositeModel behaves as a single model. \n",
    "\n",
    "To initialize a CompositeModel, there are two required parameters that must be passed in!\n",
    "* __models__: A list of PrognosticsModels to be combined into a single model.\n",
    "* __connections__: A list of tuples where the first element is the name of the output or state of one model and the second element is the name of the input of another model."
   ]
  },
  {
   "attachments": {},
   "cell_type": "markdown",
   "metadata": {},
   "source": [
    "Here is some further explanation regarding __models__!\n",
    "\n",
    "__models__ comes in the form of either a list of PrognosticsModel or a list of tuples that includes a str and a PrognosticsModel.\n",
    "\n",
    "        models (list[PrognosticsModel] or list[tuple[str, PrognosticsModel]])\n",
    "\n",
    "Provided in one of the two forms:\n",
    "\n",
    "1. A list of PrognosticsModels. The name of each model will be the class name. A number will be added for duplicates\n",
    "2. A list of tuples where the first element is the model name and the second element is the model\n",
    "\n",
    "#### __KEY NOTE__\n",
    "\n",
    "The Order of provided models will be the order that models are executed in for the composite model!"
   ]
  },
  {
   "attachments": {},
   "cell_type": "markdown",
   "metadata": {},
   "source": [
    "Here is some further explanation regarding __connections__!\n",
    "\n",
    "To reiterate, __connections__ is a list of tuples where the first element is the name of the output or state of one model and the second element is the name of the input of another model.\n",
    "\n",
    "        connections (list[tuple[str, str]], optional):\n",
    "\n",
    "The first element of the tuple must be of the form \"model_name.output_name\" or \"model_name.state_name\".\n",
    "\n",
    "The second element of the tuple must be of the form \"model_name.input_name\".\n",
    "\n",
    "For example, if you have two modes, `Batt1` and `Batt2`, and you want to connect the output of `Batt1` to the input of `Batt2`, you would use the following connections: `(\"Batt1.output\", \"Batt2.input\")`"
   ]
  },
  {
   "attachments": {},
   "cell_type": "markdown",
   "metadata": {},
   "source": [
    "Now, let's get started with an example"
   ]
  },
  {
   "attachments": {},
   "cell_type": "markdown",
   "metadata": {},
   "source": [
    "### EX 1) DC motor + Electronic Speed Controller + Propeller Load"
   ]
  },
  {
   "attachments": {},
   "cell_type": "markdown",
   "metadata": {},
   "source": [
    "This example creates a composite model of a DC motor with an Electronic Speed Controller and a propeller load. The three composite models are interrelated. The created composite model describes the nature of these interconnections. The resulting powertrain model is then simulated forward with time and the results are plotted."
   ]
  },
  {
   "attachments": {},
   "cell_type": "markdown",
   "metadata": {},
   "source": [
    "First thing that we would want to do is import that required packages."
   ]
  },
  {
   "cell_type": "code",
   "execution_count": null,
   "metadata": {},
   "outputs": [],
   "source": [
    "from prog_models.models import DCMotor, ESC, PropellerLoad\n",
    "from prog_models import CompositeModel"
   ]
  },
  {
   "attachments": {},
   "cell_type": "markdown",
   "metadata": {},
   "source": [
    "This imports the DCmotor, Electronic Speed Controller (ESC), and PropellerLoad models distributed with the `prog_models` package. See <https://nasa.github.io/progpy/api_ref/prog_models/IncludedModels.html> for details on these models.\n",
    "\n",
    "Furthermore, we import the prog_models CompositeModel Class!\n",
    "\n",
    "First, lets define the composite models"
   ]
  },
  {
   "cell_type": "code",
   "execution_count": null,
   "metadata": {},
   "outputs": [],
   "source": [
    "m_motor = DCMotor()\n",
    "m_esc = ESC()\n",
    "m_load = PropellerLoad()"
   ]
  },
  {
   "attachments": {},
   "cell_type": "markdown",
   "metadata": {},
   "source": [
    "Next, let's combine them into a single composite model describing the behavior of a powertrain. Remember, the goal of this model to to behave as a single model!"
   ]
  },
  {
   "cell_type": "code",
   "execution_count": null,
   "metadata": {},
   "outputs": [],
   "source": [
    "m_powertrain = CompositeModel(\n",
    "    (m_esc, m_load, m_motor), \n",
    "    connections = [ \n",
    "        ('DCMotor.theta', 'ESC.theta'),\n",
    "        ('ESC.v_a', 'DCMotor.v_a'),\n",
    "        ('ESC.v_b', 'DCMotor.v_b'),\n",
    "        ('ESC.v_c', 'DCMotor.v_c'),\n",
    "        ('PropellerLoad.t_l', 'DCMotor.t_l'),\n",
    "        ('DCMotor.v_rot', 'PropellerLoad.v_rot')],\n",
    "    outputs = {'DCMotor.v_rot', 'DCMotor.theta'})"
   ]
  },
  {
   "attachments": {},
   "cell_type": "markdown",
   "metadata": {},
   "source": [
    "Here, the connections are between each of the outputs from one model to another.\n",
    "\n",
    "The key point here is that you can establish connections between models even when they are not in order. What occurs here is that when the model does have an output, then we are able to connect it back to the input of another, regardless of their current order!"
   ]
  },
  {
   "attachments": {},
   "cell_type": "markdown",
   "metadata": {},
   "source": [
    "Finally, let's print out the inputs, states, and outputs of the composite model to see what these values are!"
   ]
  },
  {
   "cell_type": "code",
   "execution_count": null,
   "metadata": {},
   "outputs": [],
   "source": [
    "print('Composite model of DCMotor, ESC, and Propeller load')\n",
    "print('inputs: ', m_powertrain.inputs)\n",
    "print('states: ', m_powertrain.states)\n",
    "print('outputs: ', m_powertrain.outputs)"
   ]
  },
  {
   "attachments": {},
   "cell_type": "markdown",
   "metadata": {},
   "source": [
    "## Simulating to a specific time"
   ]
  },
  {
   "attachments": {},
   "cell_type": "markdown",
   "metadata": {},
   "source": [
    "Now let's work towards simulating. The following section uses the model created in the \"using the included models\" section\n",
    "\n",
    "First, we define future loading. This is a function that describes how the system will be loaded as a function of time. Here we're defining a basic piecewise function. More information regarding future_loading() can be found in the documentation (https://nasa.github.io/progpy/prog_models_guide.html#future-loading)."
   ]
  },
  {
   "cell_type": "code",
   "execution_count": null,
   "metadata": {},
   "outputs": [],
   "source": [
    "def future_loading(t, x=None):\n",
    "    # Variable (piece-wise) future loading scheme \n",
    "    # Note: The standard interface for a future loading function is f(t, x)\n",
    "    #    State (x) is set to None by default because it is not used in this future loading scheme\n",
    "    #    This allows the function to be used without state (e.g., future_loading(t))\n",
    "    return m_powertrain.InputContainer({\n",
    "        'ESC.duty': 1,\n",
    "        'ESC.v': 23\n",
    "    })"
   ]
  },
  {
   "attachments": {},
   "cell_type": "markdown",
   "metadata": {},
   "source": [
    "Now, we can simulate to a particular time! We can utilize the simulate_to() function to simulate to a specified time and print the results. For our case, we will simulate forward 2 seconds.\n",
    "\n",
    "More information can be found in the documentation (https://nasa.github.io/progpy/api_ref/prog_models/PrognosticModel.html#prog_models.PrognosticsModel.simulate_to)."
   ]
  },
  {
   "cell_type": "code",
   "execution_count": null,
   "metadata": {},
   "outputs": [],
   "source": [
    "print('\\n\\n------------------------------------------------')\n",
    "print('Simulating to threshold\\n\\n')\n",
    "simulated_results = m_powertrain.simulate_to(2, future_loading, dt=2e-5, save_freq=0.1, print=True)"
   ]
  },
  {
   "attachments": {},
   "cell_type": "markdown",
   "metadata": {},
   "source": [
    "Finally, we can plot the results of the simulated data to have a visualization of what is happening."
   ]
  },
  {
   "cell_type": "code",
   "execution_count": null,
   "metadata": {},
   "outputs": [],
   "source": [
    "simulated_results.outputs.plot()"
   ]
  },
  {
   "attachments": {},
   "cell_type": "markdown",
   "metadata": {},
   "source": [
    "It is worth mentioning that the inputs are never changing."
   ]
  },
  {
   "cell_type": "code",
   "execution_count": null,
   "metadata": {},
   "outputs": [],
   "source": [
    "simulated_results.inputs.plot()"
   ]
  },
  {
   "attachments": {},
   "cell_type": "markdown",
   "metadata": {},
   "source": [
    "Finally, we can view the states of the simulated results to view how the states are changing over time as well!"
   ]
  },
  {
   "cell_type": "code",
   "execution_count": null,
   "metadata": {},
   "outputs": [],
   "source": [
    "simulated_results.states.plot()"
   ]
  }
 ],
 "metadata": {
  "kernelspec": {
   "display_name": "Python 3",
   "language": "python",
   "name": "python3"
  },
  "language_info": {
   "codemirror_mode": {
    "name": "ipython",
    "version": 3
   },
   "file_extension": ".py",
   "mimetype": "text/x-python",
   "name": "python",
   "nbconvert_exporter": "python",
   "pygments_lexer": "ipython3",
   "version": "3.10.8"
  },
  "orig_nbformat": 4
 },
 "nbformat": 4,
 "nbformat_minor": 2
}
