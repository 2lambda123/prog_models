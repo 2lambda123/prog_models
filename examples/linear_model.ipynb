{
 "cells": [
  {
   "attachments": {},
   "cell_type": "markdown",
   "metadata": {},
   "source": [
    "# Welcome to ProgPy's Linear Model Example"
   ]
  },
  {
   "attachments": {},
   "cell_type": "markdown",
   "metadata": {},
   "source": [
    "The goal of this notebook is to instruct users on how to use ProgPy Model LinearModel.\n",
    "\n",
    "This example shows the use of the LinearModel class, a subclass of PrognosticsModel for models that can be described as a linear time series, which can be defined by the following equations:\n",
    "\n",
    "\n",
    "$$\n",
    "\\frac{dx}{dt} = Ax + Bu + E\n",
    "$$\n",
    "\n",
    "$$\n",
    "z = Cx + D\n",
    "$$\n",
    "\n",
    "$$\n",
    "es = Fx + G\n",
    "$$\n",
    "\n",
    "$x$ is `state`, $u$ is `input`, $z$ is `output`, and $es$ is `event state`\n",
    "\n",
    "Furthermore, Linear Models must inherit from this class and define the following properties:\n",
    "* $A$: 2-D np.array[float], dimensions: n_states x n_states\n",
    "* $B$: 2-D np.array[float], optional (zeros by default), dimensions: n_states x n_inputs\n",
    "* $C$: 2-D np.array[float], dimensions: n_outputs x n_states\n",
    "* $D$: 1-D np.array[float], optional (zeros by default), dimensions: n_outputs x 1\n",
    "* $E$: 1-D np.array[float], optional (zeros by default), dimensions: n_states x 1\n",
    "* $F$: 2-D np.array[float], dimensions: n_es x n_states\n",
    "* $G$: 1-D np.array[float], optional (zeros by default), dimensions: n_es x 1\n",
    "* __inputs__:  list[str] - `input` keys\n",
    "* __states__:  list[str] - `state` keys\n",
    "* __outputs__: list[str] - `output` keys\n",
    "* __events__:  list[str] - `event` keys"
   ]
  },
  {
   "attachments": {},
   "cell_type": "markdown",
   "metadata": {},
   "source": [
    "We will now utilize our LinearModel to model the classical physics problem throwing an object into the air! We can create a subclass of LinearModel which will be used to simulate an object thrown, which we will call the ThrownObject Class.\n",
    "\n",
    "\n",
    "First, some definitions for our Model!\n",
    "\n",
    "    Events (2)\n",
    "        | falling: The object is falling\n",
    "        | impact: The object has hit the ground\n",
    "\n",
    "    Inputs/Loading: (0)\n",
    "\n",
    "    States: (2)\n",
    "        | x: Position in space (m)\n",
    "        | v: Velocity in space (m/s)\n",
    "\n",
    "    Outputs/Measurements: (1)\n",
    "        | x: Position in space (m)"
   ]
  },
  {
   "attachments": {},
   "cell_type": "markdown",
   "metadata": {},
   "source": [
    "Now, for our keyword arguments:\n",
    "\n",
    "* `g : Optional, float`\n",
    "  * Acceleration due to gravity (m/s^2). Default is 9.81 m/s^2 (standard gravity)\n",
    "* `thrower_height : Optional, float`\n",
    "  * Height of the thrower (m). Default is 1.83 m\n",
    "* `throwing_speed : Optional, float`\n",
    "  * Speed at which the ball is thrown (m/s). Default is 40 m/s"
   ]
  },
  {
   "attachments": {},
   "cell_type": "markdown",
   "metadata": {},
   "source": [
    "With our definitions, we can now create the ThrownObject Model.\n",
    "\n",
    "First, we need to import the necessary packages."
   ]
  },
  {
   "cell_type": "code",
   "execution_count": null,
   "metadata": {},
   "outputs": [],
   "source": [
    "import numpy as np\n",
    "from prog_models import LinearModel"
   ]
  },
  {
   "attachments": {},
   "cell_type": "markdown",
   "metadata": {},
   "source": [
    "Now we'll define some features of ThrownObject such that it models after a LinearModel. Recall that all LinearModels follow a set of core equations and require some specific properties (see above). In the next step, we'll define our inputs, states, outputs, and events, along with the $A$, $C$, $E$, and $F$ values."
   ]
  },
  {
   "cell_type": "code",
   "execution_count": null,
   "metadata": {},
   "outputs": [],
   "source": [
    "class ThrownObject(LinearModel):\n",
    "    events = ['impact']\n",
    "    inputs = []  \n",
    "    states = ['x', 'v']\n",
    "    outputs = ['x']\n",
    "    \n",
    "    A = np.array([[0, 1], [0, 0]])\n",
    "    C = np.array([[1, 0]])\n",
    "    E = np.array([[0], [-9.81]])\n",
    "    F = None"
   ]
  },
  {
   "attachments": {},
   "cell_type": "markdown",
   "metadata": {},
   "source": [
    "Next, we'll define some default parameters for our ThrownObject model."
   ]
  },
  {
   "cell_type": "code",
   "execution_count": null,
   "metadata": {},
   "outputs": [],
   "source": [
    "class ThrownObject(ThrownObject):  # Continue the ThrownObject class\n",
    "    default_parameters = {\n",
    "        'thrower_height': 1.83,\n",
    "        'throwing_speed': 40,\n",
    "        'g': -9.81\n",
    "    }"
   ]
  },
  {
   "attachments": {},
   "cell_type": "markdown",
   "metadata": {},
   "source": [
    "In the following cells, we'll define some class functions necessary to perform prognostics on the model."
   ]
  },
  {
   "attachments": {},
   "cell_type": "markdown",
   "metadata": {},
   "source": [
    "The `initialize()` function sets the states to their corresponding values. Since we have defined the `x` value for our ThrownObject model to represent position in space, our initial value would be the thrower_height parameter."
   ]
  },
  {
   "cell_type": "code",
   "execution_count": null,
   "metadata": {},
   "outputs": [],
   "source": [
    "class ThrownObject(ThrownObject):\n",
    "    def initialize(self, u=None, z=None):\n",
    "        return self.StateContainer({\n",
    "            'x': self.parameters['thrower_height'],\n",
    "            'v': self.parameters['throwing_speed']\n",
    "            })"
   ]
  },
  {
   "attachments": {},
   "cell_type": "markdown",
   "metadata": {},
   "source": [
    "For our `threshold_met()`, we have defined the function to return a boolean function when our thrown object has met the initial state of 'impact', or in other words, has hit the ground. This occurs when our height is less than or equal to 0, and our speed is less than 0!"
   ]
  },
  {
   "cell_type": "code",
   "execution_count": null,
   "metadata": {},
   "outputs": [],
   "source": [
    "class ThrownObject(ThrownObject):\n",
    "    def threshold_met(self, x):\n",
    "        return {\n",
    "            'falling': x['v'] < 0,\n",
    "            'impact': x['x'] <= 0\n",
    "        }"
   ]
  },
  {
   "attachments": {},
   "cell_type": "markdown",
   "metadata": {},
   "source": [
    "Finally, for our `event_state()`, we have defined our events to be when our object has hit the ground, or has made 'impact'. The `event_state()` function specifically returns the current state of our object at any given point of it's journey through the air!"
   ]
  },
  {
   "cell_type": "code",
   "execution_count": null,
   "metadata": {},
   "outputs": [],
   "source": [
    "class ThrownObject(ThrownObject):\n",
    "    def event_state(self, x): \n",
    "        x_max = x['x'] + np.square(x['v'])/(-self.parameters['g']*2)\n",
    "        return {\n",
    "            'falling': np.maximum(x['v']/self.parameters['throwing_speed'],0),\n",
    "            'impact': np.maximum(x['x']/x_max,0) if x['v'] < 0 else 1\n",
    "        }"
   ]
  },
  {
   "attachments": {},
   "cell_type": "markdown",
   "metadata": {},
   "source": [
    "With these functions created, we can now run our ThrownObject Model!\n",
    "\n",
    "In this example, we will initialize our ThrownObject as `m`, and we'll define our `future_loading()` function (more information about future loading: https://nasa.github.io/progpy/prog_models_guide.html#future-loading). We'll use the `simulate_to_threshold()` function (more information about simulation: https://nasa.github.io/progpy/prog_models_guide.html#simulation) to simulate the movement of the thrown object in air."
   ]
  },
  {
   "cell_type": "code",
   "execution_count": null,
   "metadata": {},
   "outputs": [],
   "source": [
    "m = ThrownObject()\n",
    "def future_loading(t, x=None):\n",
    "    return m.InputContainer({})\n",
    "save = m.simulate_to_threshold(future_loading, print = True, save_freq=1, threshold_keys='impact', dt=0.1)"
   ]
  },
  {
   "attachments": {},
   "cell_type": "markdown",
   "metadata": {},
   "source": [
    "We'll also demonstrate how this looks plotted on a graph."
   ]
  },
  {
   "cell_type": "code",
   "execution_count": null,
   "metadata": {},
   "outputs": [],
   "source": [
    "import matplotlib.pyplot as plt\n",
    "save.outputs.plot(title='generated model')\n",
    "plt.show()"
   ]
  }
 ],
 "metadata": {
  "kernelspec": {
   "display_name": "Python 3",
   "language": "python",
   "name": "python3"
  },
  "language_info": {
   "codemirror_mode": {
    "name": "ipython",
    "version": 3
   },
   "file_extension": ".py",
   "mimetype": "text/x-python",
   "name": "python",
   "nbconvert_exporter": "python",
   "pygments_lexer": "ipython3",
   "version": "3.9.2"
  },
  "orig_nbformat": 4
 },
 "nbformat": 4,
 "nbformat_minor": 2
}
