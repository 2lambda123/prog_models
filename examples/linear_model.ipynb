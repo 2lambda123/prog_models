{
 "cells": [
  {
   "attachments": {},
   "cell_type": "markdown",
   "metadata": {},
   "source": [
    "# Welcome to ProgPy's Linear Model Example"
   ]
  },
  {
   "attachments": {},
   "cell_type": "markdown",
   "metadata": {},
   "source": [
    "The goal of this notebook is to instruct users on how to use ProgPy Model's LinearModel.\n",
    "\n",
    "This example shows the use of the LinearModel class, a subclass of PrognosticsModel for models that can be described as a linear time series, which can be defined by the following equations:\n",
    "\n",
    "\n",
    "$$\n",
    "\\frac{dx}{dt} = Ax + Bu + E\n",
    "$$\n",
    "\n",
    "$$\n",
    "z = Cx + D\n",
    "$$\n",
    "\n",
    "$$\n",
    "es = Fx + G\n",
    "$$\n",
    "\n",
    "$x$ is `state`, $u$ is `inputs`, $z$ is `output`, and $es$ is `event state`\n",
    "\n",
    "Furthermore, Linear Models must inherit from this class and define the following properties:\n",
    "* $A$: 2-D np.array[float], dimensions: n_states x n_states\n",
    "* $B$: 2-D np.array[float], optional (zeros by default), dimensions: n_states x n_inputs\n",
    "* $C$: 2-D np.array[float], dimensions: n_outputs x n_states\n",
    "* $D$: 1-D np.array[float], optional (zeros by default), dimensions: n_outputs x 1\n",
    "* $E$: 1-D np.array[float], optional (zeros by default), dimensions: n_states x 1\n",
    "* $F$: 2-D np.array[float], dimensions: n_es x n_states\n",
    "* $G$: 1-D np.array[float], optional (zeros by default), dimensions: n_es x 1\n",
    "* __inputs__:  list[str] - `inputs` keys\n",
    "* __states__:  list[str] - `state` keys\n",
    "* __outputs__: list[str] - `output` keys\n",
    "* __events__:  list[str] - `event` keys"
   ]
  },
  {
   "attachments": {},
   "cell_type": "markdown",
   "metadata": {},
   "source": [
    "We will now utilize our LinearModel to model the classical physics problem throwing an object into the air! We can create a subclass of LinearModel which will be used to simulate an object thrown, which we will call the ThrownObject Class.\n",
    "\n",
    "\n",
    "First, some definitions for our Model!\n",
    "\n",
    "    Events (2)\n",
    "        | falling: The object is falling\n",
    "        | impact: The object has hit the ground\n",
    "\n",
    "    Inputs/Loading: (0)\n",
    "\n",
    "    States: (2)\n",
    "        | x: Position in space (m)\n",
    "        | v: Velocity in space (m/s)\n",
    "\n",
    "    Outputs/Measurements: (1)\n",
    "        | x: Position in space (m)"
   ]
  },
  {
   "attachments": {},
   "cell_type": "markdown",
   "metadata": {},
   "source": [
    "Now, for our keyword arguments:\n",
    "\n",
    "* `process_noise : Optional, float or dict[str, float]`\n",
    "  * Process noise (applied at dx/next_state).\n",
    "  * Can be number (e.g., .2) applied to every state, a dictionary of values for each state (e.g., {'x1': 0.2, 'x2': 0.3}), or a function (x) -> x\n",
    "* `process_noise_dist : Optional, str`\n",
    "  * distribution for process noise (e.g., normal, uniform, triangular)\n",
    "* `measurement_noise : Optional, float or dict[str, float]`\n",
    "  * Measurement noise (applied in output eqn).\n",
    "  * Can be number (e.g., .2) applied to every output, a dictionary of values for each\n",
    "  * output (e.g., {'z1': 0.2, 'z2': 0.3}), or a function (z) -> z\n",
    "* `measurement_noise_dist : Optional, str`\n",
    "  * distribution for measurement noise (e.g., normal, uniform, triangular)\n",
    "* `g : Optional, float`\n",
    "  * Acceleration due to gravity (m/s^2). Default is 9.81 m/s^2 (standard gravity)\n",
    "* `thrower_height : Optional, float`\n",
    "  * Height of the thrower (m). Default is 1.83 m\n",
    "* `throwing_speed : Optional, float`\n",
    "  * Speed at which the ball is thrown (m/s). Default is 40 m/s"
   ]
  },
  {
   "attachments": {},
   "cell_type": "markdown",
   "metadata": {},
   "source": [
    "With our definitions, we can now create the ThrownObject Model.\n",
    "\n",
    "First, we would need to import the necessary packages."
   ]
  },
  {
   "cell_type": "code",
   "execution_count": null,
   "metadata": {},
   "outputs": [
    {
     "ename": "",
     "evalue": "",
     "output_type": "error",
     "traceback": [
      "\u001b[1;31mFailed to start the Kernel 'Python 3.10.8'. \n",
      "\u001b[1;31mView Jupyter <a href='command:jupyter.viewOutput'>log</a> for further details. Cannot read properties of undefined (reading 'makeSettings')"
     ]
    }
   ],
   "source": [
    "import numpy as np\n",
    "from prog_models import LinearModel"
   ]
  },
  {
   "attachments": {},
   "cell_type": "markdown",
   "metadata": {},
   "source": [
    "The goal of this notebook is to instruct users on how to use and extend the NASA PCoE Python Prognostics Model Package. \n",
    "\n",
    "First some background. The Prognostics Model Package is a python package for the modeling and simulation of the evolution of state for components, systems, and systems of systems, with a focus on simulating specific events. When used for prognostics, these events are typically system failures, such as a winding failure on a motor or full discharge of a battery. \n",
    "\n",
    "A few definitions:\n",
    "* __Event__: Something that can be predicted (e.g., system failure, warning threshold). An event has either occurred or not. \n",
    "* __Event State__: Progress towards event occurring. Defined as a number where an event state of 0 indicates the event has occurred and 1 indicates no progress towards the event (i.e., fully healthy operation for a failure event). For gradually occurring events (e.g., discharge) the number will progress from 1 to 0 as the event nears. In prognostics, event state is frequently called \"State of Health\" or \"SOH\"\n",
    "* __Inputs__: Control applied to the system being modeled (e.g., current drawn from a battery)\n",
    "* __Outputs__: Measured sensor values from a system (e.g., voltage and temperature of a battery), outputs can be estimated from system state\n",
    "* __States__: Internal parameters (typically hidden states) used to represent the state of the system- can be the same as inputs/outputs but do not have to be. \n",
    "\n",
    "The `prog_models` package has the following structure\n",
    "* `prog_models.data_models` - package containing algorithms for data-driven models, and parent class `prog_models.data_models.DataModel`\n",
    "* `prog_models.datasets` - package containing tools for downloading a few relevant datasets\n",
    "* `prog_models.models.*` - implemented models (e.g., pump, valve, battery)\n",
    "* `prog_models.LinearModel` - Parent class for simple linear models\n",
    "* `prog_models.PrognosticsModel` - parent class for all prognostics models - defines interfaces that a model must implement, and tools for simulating said model \n",
    "\n",
    "In addition to the `prog_models` package, this repo includes many examples illustrating how to use the package (see `examples/`), a template for implementing a new model (`prog_model_template`), documentation (<https://nasa.github.io/progpy>), and this tutorial (`tutorial.ipynb`).\n",
    "\n",
    "Before you start, make sure to install prog_models using the following command:\n",
    "\n",
    "    pip install prog_models\n",
    "\n",
    "Now let's get started with some examples"
   ]
  },
  {
   "attachments": {},
   "cell_type": "markdown",
   "metadata": {},
   "source": []
  }
 ],
 "metadata": {
  "kernelspec": {
   "display_name": "Python 3",
   "language": "python",
   "name": "python3"
  },
  "language_info": {
   "name": "python",
   "version": "3.10.8"
  },
  "orig_nbformat": 4
 },
 "nbformat": 4,
 "nbformat_minor": 2
}
